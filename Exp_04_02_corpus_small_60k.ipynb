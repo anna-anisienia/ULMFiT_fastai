{
 "cells": [
  {
   "cell_type": "code",
   "execution_count": 1,
   "metadata": {
    "colab": {},
    "colab_type": "code",
    "id": "A8R81e-kpMi2",
    "outputId": "a48d1a4e-988b-4460-e89f-e6d5c5bfbaa1"
   },
   "outputs": [
    {
     "name": "stdout",
     "output_type": "stream",
     "text": [
      "Used fastai and torch version:\n",
      "1.0.39 1.0.0\n",
      "\n",
      "\n",
      "=================================\n",
      "Reading in Train/valid/test data:\n",
      "==================================\n",
      "Shape of train: (963, 2), valid: (277, 2), test: (137, 2), LM corpus: (1377, 2)\n"
     ]
    },
    {
     "data": {
      "text/html": [
       "<div>\n",
       "<style scoped>\n",
       "    .dataframe tbody tr th:only-of-type {\n",
       "        vertical-align: middle;\n",
       "    }\n",
       "\n",
       "    .dataframe tbody tr th {\n",
       "        vertical-align: top;\n",
       "    }\n",
       "\n",
       "    .dataframe thead th {\n",
       "        text-align: right;\n",
       "    }\n",
       "</style>\n",
       "<table border=\"1\" class=\"dataframe\">\n",
       "  <thead>\n",
       "    <tr style=\"text-align: right;\">\n",
       "      <th></th>\n",
       "      <th>fulltext</th>\n",
       "      <th>rm</th>\n",
       "    </tr>\n",
       "  </thead>\n",
       "  <tbody>\n",
       "    <tr>\n",
       "      <th>0</th>\n",
       "      <td>Association for Information Systems AIS Electr...</td>\n",
       "      <td>[Survey]</td>\n",
       "    </tr>\n",
       "    <tr>\n",
       "      <th>1</th>\n",
       "      <td>Association for Information Systems AIS Electr...</td>\n",
       "      <td>[Case Study]</td>\n",
       "    </tr>\n",
       "    <tr>\n",
       "      <th>2</th>\n",
       "      <td>SPECIAL ISSUE: SERVICE INNOVATION IN THE DIGIT...</td>\n",
       "      <td>[Case Study]</td>\n",
       "    </tr>\n",
       "    <tr>\n",
       "      <th>3</th>\n",
       "      <td>Association for Information Systems AIS Electr...</td>\n",
       "      <td>[Literature Review, Opinion]</td>\n",
       "    </tr>\n",
       "    <tr>\n",
       "      <th>4</th>\n",
       "      <td>chain scorecard Jong Han Park Jae Kyu Lee and ...</td>\n",
       "      <td>[Conceptual, Case Study]</td>\n",
       "    </tr>\n",
       "  </tbody>\n",
       "</table>\n",
       "</div>"
      ],
      "text/plain": [
       "                                            fulltext  \\\n",
       "0  Association for Information Systems AIS Electr...   \n",
       "1  Association for Information Systems AIS Electr...   \n",
       "2  SPECIAL ISSUE: SERVICE INNOVATION IN THE DIGIT...   \n",
       "3  Association for Information Systems AIS Electr...   \n",
       "4  chain scorecard Jong Han Park Jae Kyu Lee and ...   \n",
       "\n",
       "                             rm  \n",
       "0                      [Survey]  \n",
       "1                  [Case Study]  \n",
       "2                  [Case Study]  \n",
       "3  [Literature Review, Opinion]  \n",
       "4      [Conceptual, Case Study]  "
      ]
     },
     "execution_count": 1,
     "metadata": {},
     "output_type": "execute_result"
    }
   ],
   "source": [
    "from fastai.text import *\n",
    "from fastai.callbacks.tracker import EarlyStoppingCallback\n",
    "from fastai.callbacks.tracker import SaveModelCallback\n",
    "from fastai.callbacks.tracker import ReduceLROnPlateauCallback\n",
    "\n",
    "import fastai\n",
    "print(\"Used fastai and torch version:\")\n",
    "print(fastai.__version__, torch.__version__)\n",
    "\n",
    "from sklearn.model_selection import train_test_split\n",
    "import sklearn.metrics as skm\n",
    "import pandas as pd\n",
    "\n",
    "#torch.cuda.set_device(1) # torch.cuda.empty_cache()\n",
    "path = Path(\"../out/Exp_04_02_corpus_small_60k\")\n",
    "print(\"\\n\")\n",
    "\n",
    "print(\"=================================\")\n",
    "print(\"Reading in Train/valid/test data:\")\n",
    "print(\"==================================\")\n",
    "train_df = pd.read_json('../data/02_corpus/train.jsonl', lines=True)\n",
    "valid_df = pd.read_json('../data/02_corpus/valid.jsonl', lines=True)\n",
    "test_df = pd.read_json('../data/02_corpus/test.jsonl', lines=True)\n",
    "\n",
    "lm_corpus = pd.read_json(\"../data/02_corpus/02_fuzzy_matched_corpus.jsonl\", lines=True)\n",
    "\n",
    "print(\"Shape of train: \" + str(train_df.shape) + \n",
    "      \", valid: \" + str(valid_df.shape) + \n",
    "      \", test: \" + str(test_df.shape) + \n",
    "      \", LM corpus: \" + str(lm_corpus.shape))\n",
    "\n",
    "train_df.head()"
   ]
  },
  {
   "cell_type": "code",
   "execution_count": 2,
   "metadata": {
    "colab": {},
    "colab_type": "code",
    "id": "4tisLy9wilt0",
    "outputId": "9b90afdd-7e7e-4ebf-ac1b-e9824911c741"
   },
   "outputs": [
    {
     "name": "stdout",
     "output_type": "stream",
     "text": [
      "<class 'pandas.core.frame.DataFrame'>\n",
      "RangeIndex: 1377 entries, 0 to 1376\n",
      "Data columns (total 2 columns):\n",
      "fulltext    1377 non-null object\n",
      "rm          1377 non-null object\n",
      "dtypes: object(2)\n",
      "memory usage: 21.6+ KB\n"
     ]
    }
   ],
   "source": [
    "lm_corpus.info()"
   ]
  },
  {
   "cell_type": "code",
   "execution_count": 3,
   "metadata": {
    "colab": {},
    "colab_type": "code",
    "id": "3piK8BEhpMjN",
    "outputId": "b837924b-fdcd-4dce-d8f5-8d5ae9ce9718"
   },
   "outputs": [
    {
     "data": {
      "text/plain": [
       "'Tesla P100-PCIE-16GB'"
      ]
     },
     "execution_count": 3,
     "metadata": {},
     "output_type": "execute_result"
    }
   ],
   "source": [
    "torch.cuda.get_device_name(0)"
   ]
  },
  {
   "cell_type": "code",
   "execution_count": 4,
   "metadata": {
    "colab": {},
    "colab_type": "code",
    "id": "ioODaw8WpMja",
    "outputId": "3705442b-52c4-4424-e2c4-5617d0ccc106"
   },
   "outputs": [
    {
     "data": {
      "text/plain": [
       "_CudaDeviceProperties(name='Tesla P100-PCIE-16GB', major=6, minor=0, total_memory=16280MB, multi_processor_count=56)"
      ]
     },
     "execution_count": 4,
     "metadata": {},
     "output_type": "execute_result"
    }
   ],
   "source": [
    "torch.cuda.get_device_properties(0)"
   ]
  },
  {
   "cell_type": "markdown",
   "metadata": {
    "colab_type": "text",
    "id": "qP0v4hHGEQF7"
   },
   "source": [
    "## Data"
   ]
  },
  {
   "cell_type": "code",
   "execution_count": 5,
   "metadata": {
    "colab": {},
    "colab_type": "code",
    "id": "4t7EAvZFpMjn",
    "outputId": "d33101a3-0b8e-40d2-ff29-0cbdcd7cee5f"
   },
   "outputs": [
    {
     "name": "stdout",
     "output_type": "stream",
     "text": [
      "Number of rows in train: 1308, valid: 69\n"
     ]
    }
   ],
   "source": [
    "lm_train, lm_valid = train_test_split(lm_corpus, \n",
    "                                      test_size = 0.05, \n",
    "                                      random_state = 0)\n",
    "\n",
    "print(\"Number of rows in train: \" + str(len(lm_train)) + \n",
    "      \", valid: \" + str(len(lm_valid)))"
   ]
  },
  {
   "cell_type": "code",
   "execution_count": 6,
   "metadata": {
    "colab": {},
    "colab_type": "code",
    "id": "cIw-FbycpMj2",
    "outputId": "38c831d2-9ae5-49a3-b1f7-b22018c2fcff"
   },
   "outputs": [
    {
     "name": "stdout",
     "output_type": "stream",
     "text": [
      "Language model vocab size: 54930\n",
      "data_lm saved to: ../out/Exp_04_02_corpus_small_60k\n"
     ]
    }
   ],
   "source": [
    "data_lm = TextLMDataBunch.from_df(path, \n",
    "                                  lm_train, \n",
    "                                  lm_valid, \n",
    "                                  bs=48, \n",
    "                                  text_cols = 'fulltext',\n",
    "                                  max_vocab = 60000, \n",
    "                                  min_freq = 2)\n",
    "data_lm.save('data_lm')\n",
    "print(f\"Language model vocab size: {len(data_lm.vocab.itos)}\")\n",
    "print(f\"data_lm saved to: {path}\")"
   ]
  },
  {
   "cell_type": "code",
   "execution_count": 7,
   "metadata": {
    "colab": {},
    "colab_type": "code",
    "id": "iGhm18PBpMk2",
    "outputId": "8fe3c220-8ffa-4158-b98e-2e86653f6ee8"
   },
   "outputs": [
    {
     "name": "stdout",
     "output_type": "stream",
     "text": [
      "Classifier vocab size: 54930.\n",
      "data_classifier saved to: ../out/Exp_04_02_corpus_small_60k\n"
     ]
    }
   ],
   "source": [
    "data_classifier = TextClasDataBunch.from_df(path, \n",
    "                                            train_df, \n",
    "                                            valid_df, \n",
    "                                            test_df, \n",
    "                                            bs=64, \n",
    "                                            max_vocab = 60000, \n",
    "                                            min_freq = 2, \n",
    "                                            vocab = data_lm.train_ds.vocab,\n",
    "                                            text_cols = 'fulltext', \n",
    "                                            label_cols ='rm')\n",
    "data_classifier.save('data_classifier')\n",
    "\n",
    "print(f\"Classifier vocab size: {len(data_classifier.vocab.itos)}.\")\n",
    "print(f\"data_classifier saved to: {path}\")"
   ]
  },
  {
   "cell_type": "code",
   "execution_count": 8,
   "metadata": {
    "colab": {},
    "colab_type": "code",
    "id": "bFr_fO6s77a6"
   },
   "outputs": [],
   "source": [
    "# data_lm.vocab.stoi\n",
    "# Output:\n",
    "# defaultdict(int,\n",
    "#             {'xxunk': 0,\n",
    "#              'xxpad': 1,\n",
    "#              'xxbos': 2,\n",
    "#              'xxfld': 3,\n",
    "#              'xxmaj': 4,\n",
    "#              'xxup': 5,\n",
    "#              'xxrep': 6,\n",
    "#              'xxwrep': 7,\n",
    "#              ',': 8,\n",
    "#              '.': 9,\n",
    "#              'the': 10,\n",
    "#              'of': 11,\n",
    "#              'and': 12,"
   ]
  },
  {
   "cell_type": "code",
   "execution_count": 9,
   "metadata": {
    "colab": {},
    "colab_type": "code",
    "id": "5S361vAc8SC6"
   },
   "outputs": [],
   "source": [
    "# data_classifier.vocab.stoi\n",
    "# defaultdict(int,\n",
    "#             {'xxunk': 0,\n",
    "#              'xxpad': 1,\n",
    "#              'xxbos': 2,\n",
    "#              'xxfld': 3,\n",
    "#              'xxmaj': 4,\n",
    "#              'xxup': 5,\n",
    "#              'xxrep': 6,\n",
    "#              'xxwrep': 7,\n",
    "#              ',': 8,\n",
    "#              '.': 9,\n",
    "#              'the': 10,\n",
    "#              'of': 11,\n",
    "#              'and': 12,"
   ]
  },
  {
   "cell_type": "code",
   "execution_count": 10,
   "metadata": {
    "colab": {},
    "colab_type": "code",
    "id": "iqoeBAGA7kEZ",
    "outputId": "5ae7a982-f113-403d-8cd8-8607163e2ee4"
   },
   "outputs": [
    {
     "data": {
      "text/html": [
       "<table>  <col width='5%'>  <col width='95%'>  <tr>\n",
       "    <th>idx</th>\n",
       "    <th>text</th>\n",
       "  </tr>\n",
       "  <tr>\n",
       "    <th>0</th>\n",
       "    <th>xxbos xxmaj association for xxmaj information xxmaj systems xxup ais xxmaj electronic xxmaj library aisel xxup ecis xxmaj completed xxmaj research xxmaj papers xxup ecis xxmaj proceedings xxmaj spring xxmaj can xxmaj target xxmaj costing xxmaj be xxmaj applied in xxmaj green xxmaj logistics ? xxmaj evidence from a xxmaj conjoint xxmaj analysis xxmaj volker xxmaj frehe xxmaj osnabrueck xxmaj university , xxmaj follow this and additional works at :</th>\n",
       "  </tr>\n",
       "  <tr>\n",
       "    <th>1</th>\n",
       "    <th>breach function . xxmaj basically , what drives their result is the relative size of the firm marginal benefit from an additional dollar of information security expenditure , at different levels of security investment . galor and xxmaj ghose : xxmaj the xxmaj economic xxmaj incentives for xxmaj sharing xxmaj security xxmaj information xxmaj implications , xxmaj conclusion , and xxmaj extensions xxmaj the xxup u.s. federal government has encouraged</th>\n",
       "  </tr>\n",
       "  <tr>\n",
       "    <th>2</th>\n",
       "    <th>, they can be counted towards digital markets . xxmaj in line with prior acceptance research xxcite , we thus contend a second hypothesis : h : xxmaj the perceived risk of offering one own car in xxup pp carsharing services negatively influences the intention to use a xxup pp carsharing service . xxmaj in addition , if the perceived risk of offering one own car in xxup pp carsharing</th>\n",
       "  </tr>\n",
       "  <tr>\n",
       "    <th>3</th>\n",
       "    <th>guide for creating new measures in xxup mis and other disciplines . xxmaj we believe it can enhance the capabilities of researchers aiming to add to the existing body of knowledge by developing quality instruments to measure relevant constructs . xxmaj further , we anticipate that widespread use of this method can expedite advancements in sciences striving to reach the normal state articulated by xxcite . xxmaj about the authors</th>\n",
       "  </tr>\n",
       "  <tr>\n",
       "    <th>4</th>\n",
       "    <th>a number of previously validated survey instruments for example see xxcite ; xxmaj fogarty et xxunk the space limitations we present results for only a few of the questions / statements . xxmaj these are : xxmaj questions requiring a xxmaj yes / xxmaj no response xxmaj did you enjoy being in xxmaj digital xxmaj divas ? , xxmaj has your confidence with computers improved ? , xxmaj have your</th>\n",
       "  </tr>\n",
       "</table>\n"
      ],
      "text/plain": [
       "<IPython.core.display.HTML object>"
      ]
     },
     "metadata": {},
     "output_type": "display_data"
    }
   ],
   "source": [
    "data_lm.show_batch()"
   ]
  },
  {
   "cell_type": "code",
   "execution_count": 11,
   "metadata": {
    "colab": {},
    "colab_type": "code",
    "id": "9_eRxyrd8UhJ",
    "outputId": "00f6a030-f1c4-4f4d-e3b7-98e6ff1e59ed"
   },
   "outputs": [
    {
     "data": {
      "text/html": [
       "<table>  <col width='90%'>  <col width='10%'>  <tr>\n",
       "    <th>text</th>\n",
       "    <th>target</th>\n",
       "  </tr>\n",
       "  <tr>\n",
       "    <th>xxbos xxmaj association for xxmaj information xxmaj systems xxup ais xxmaj electronic xxmaj library aisel xxup icis xxmaj proceedings xxmaj international xxmaj conference on xxmaj information xxmaj systems xxup icis xxmaj strategic xxmaj choices in xxup is xxmaj infrastructure : xxmaj corporate xxmaj standards xxmaj versus \" xxmaj best of xxmaj breed \" xxmaj systems xxmaj rajiv xxmaj dewan xxmaj university of xxmaj rochester xxmaj abraham xxmaj seidmann xxmaj university</th>\n",
       "    <th>Literature Review;Survey</th>\n",
       "  </tr>\n",
       "  <tr>\n",
       "    <th>xxbos xxup research xxup article xxup information xxup technology xxup impacts xxup on xxup firm xxup performance : xxup an xxup extension xxup of xxcite xxmaj rajiv xxmaj sabherwal xxmaj department of xxmaj information xxmaj systems , xxmaj sam xxup m. xxmaj walton xxmaj college of xxmaj business , xxmaj university of xxmaj arkansas , xxmaj north xxunk xxmaj avenue , xxmaj fayetteville , xxup ar xxup u.s.a. xxmaj anand</th>\n",
       "    <th>Conceptual;Literature Analysis</th>\n",
       "  </tr>\n",
       "  <tr>\n",
       "    <th>xxbos xxup research xxup article xxup mobile xxup application xxup usability : xxup conceptualization xxup and xxup instrument xxup development xxmaj hartmut xxmaj hoehle and xxmaj viswanath xxmaj venkatesh xxmaj department of xxmaj information xxmaj systems , xxmaj sam xxup m. xxmaj walton xxmaj college of xxmaj business , xxmaj university of xxmaj arkansas , xxmaj fayetteville , xxup ar xxup u.s.a. xxmaj this paper presents a mobile application usability</th>\n",
       "    <th>Other</th>\n",
       "  </tr>\n",
       "  <tr>\n",
       "    <th>xxbos xxmaj zhang and xxmaj li / xxmaj intellectual xxmaj development of xxup hci xxmaj research xxup is xxup research xxup perspectives xxup article xxmaj the xxmaj intellectual xxmaj development of humancomputer xxmaj interaction xxmaj research : a xxmaj critical xxmaj assessment of the xxup mis xxmaj literature xxmaj ping xxmaj zhang xxmaj school of xxmaj information xxmaj studies xxmaj syracuse xxmaj university xxmaj na xxmaj xxunk xxmaj li xxmaj</th>\n",
       "    <th>Literature Analysis;Literature Review</th>\n",
       "  </tr>\n",
       "  <tr>\n",
       "    <th>xxbos xxmaj continuance xxmaj model xxup misc to xxmaj better xxmaj explain enduser xxmaj system xxmaj evaluations and xxmaj continuance xxmaj intentions xxmaj paul xxmaj benjamin xxmaj lowry xxmaj city xxmaj university of xxmaj hong xxmaj kong xxmaj james xxmaj eric xxmaj gaskin xxmaj brigham xxmaj young xxmaj university xxmaj gregory xxup d. xxmaj moody xxmaj university of xxmaj nevada , xxmaj las xxmaj vegas xxmaj abstract xxmaj to ensure</th>\n",
       "    <th>Conceptual;Experiment</th>\n",
       "  </tr>\n",
       "</table>\n"
      ],
      "text/plain": [
       "<IPython.core.display.HTML object>"
      ]
     },
     "metadata": {},
     "output_type": "display_data"
    }
   ],
   "source": [
    "data_classifier.show_batch()"
   ]
  },
  {
   "cell_type": "markdown",
   "metadata": {
    "colab_type": "text",
    "id": "AEUXIvq7ENTL"
   },
   "source": [
    "## LM"
   ]
  },
  {
   "cell_type": "code",
   "execution_count": 12,
   "metadata": {
    "colab": {},
    "colab_type": "code",
    "id": "pROdQ6TgpMkE",
    "outputId": "f6416cbc-a6ca-49c2-9373-a8f1ed660df3"
   },
   "outputs": [
    {
     "name": "stdout",
     "output_type": "stream",
     "text": [
      "Summary of the model's structure:\n",
      "=================================\n",
      "SequentialRNN(\n",
      "  (0): RNNCore(\n",
      "    (encoder): Embedding(54930, 400, padding_idx=1)\n",
      "    (encoder_dp): EmbeddingDropout(\n",
      "      (emb): Embedding(54930, 400, padding_idx=1)\n",
      "    )\n",
      "    (rnns): ModuleList(\n",
      "      (0): WeightDropout(\n",
      "        (module): LSTM(400, 1150, batch_first=True)\n",
      "      )\n",
      "      (1): WeightDropout(\n",
      "        (module): LSTM(1150, 1150, batch_first=True)\n",
      "      )\n",
      "      (2): WeightDropout(\n",
      "        (module): LSTM(1150, 400, batch_first=True)\n",
      "      )\n",
      "    )\n",
      "    (input_dp): RNNDropout()\n",
      "    (hidden_dps): ModuleList(\n",
      "      (0): RNNDropout()\n",
      "      (1): RNNDropout()\n",
      "      (2): RNNDropout()\n",
      "    )\n",
      "  )\n",
      "  (1): LinearDecoder(\n",
      "    (decoder): Linear(in_features=400, out_features=54930, bias=True)\n",
      "    (output_dp): RNNDropout()\n",
      "  )\n",
      ")\n"
     ]
    }
   ],
   "source": [
    "save_model = partial(SaveModelCallback, \n",
    "                     monitor='accuracy', \n",
    "                     every='improvement', \n",
    "                     name='best_lm')\n",
    "\n",
    "early_stop = partial(EarlyStoppingCallback,\n",
    "                     monitor='val_loss', \n",
    "                     min_delta=0.01, \n",
    "                     patience=2)\n",
    "\n",
    "# bptt = 70, emb_sz = 400, nh = 1150, nl = 3, drop_mult = 1, wd = 0, \n",
    "lm_learner = language_model_learner(data_lm, \n",
    "                                    pretrained_model = URLs.WT103_1, \n",
    "                                    drop_mult = 0.3,\n",
    "                                    callback_fns = [save_model, early_stop])\n",
    "\n",
    "print(\"Summary of the model's structure:\")\n",
    "print(\"=================================\")\n",
    "print(lm_learner.model) # summary"
   ]
  },
  {
   "cell_type": "markdown",
   "metadata": {
    "colab_type": "text",
    "id": "-XGZXyIRKrBg"
   },
   "source": [
    "Train Learner over a few iterations. \n",
    "- Start with a very low `start_lr` and change it at each mini-batch until it reaches a very high `end_lr`. \n",
    "- Recorder will **record the loss at each iteration**. \n",
    "- Plot those losses against the learning rate to **find the optimal value before it diverges**.\n",
    "\n"
   ]
  },
  {
   "cell_type": "code",
   "execution_count": 13,
   "metadata": {
    "colab": {},
    "colab_type": "code",
    "id": "bGl4Fk9kKRUE",
    "outputId": "557e70cf-cb6b-4254-801e-92ecf20aed47"
   },
   "outputs": [
    {
     "name": "stdout",
     "output_type": "stream",
     "text": [
      "LR Finder is complete, type {learner_name}.recorder.plot() to see the graph.\n"
     ]
    }
   ],
   "source": [
    "lm_learner.lr_find()"
   ]
  },
  {
   "cell_type": "code",
   "execution_count": 14,
   "metadata": {
    "colab": {},
    "colab_type": "code",
    "id": "wLYD6S9AKTI2",
    "outputId": "c099834f-040b-4242-f624-c0c22526b76b"
   },
   "outputs": [
    {
     "data": {
      "image/png": "[encoded data removed]",
      "text/plain": [
       "<Figure size 432x288 with 1 Axes>"
      ]
     },
     "metadata": {
      "needs_background": "light"
     },
     "output_type": "display_data"
    }
   ],
   "source": [
    "lm_learner.recorder.plot(skip_end=15) \n",
    "# default: plot(`skip_start`:int=`10`, `skip_end`:int=`5`)"
   ]
  },
  {
   "cell_type": "markdown",
   "metadata": {
    "colab_type": "text",
    "id": "ADodxK3SEIc6"
   },
   "source": [
    "## Classifier"
   ]
  },
  {
   "cell_type": "code",
   "execution_count": 15,
   "metadata": {
    "colab": {},
    "colab_type": "code",
    "id": "4y1DTAIKpMlW",
    "outputId": "cfe1d0d8-a3c1-4252-cb5b-59e9f5fd8c1a"
   },
   "outputs": [
    {
     "name": "stdout",
     "output_type": "stream",
     "text": [
      "Define the model for the target task, i.e. Classification\n",
      "Classifier defined. \n",
      " Model's summary:\n",
      "=======================================\n",
      "SequentialRNN(\n",
      "  (0): MultiBatchRNNCore(\n",
      "    (encoder): Embedding(54930, 400, padding_idx=1)\n",
      "    (encoder_dp): EmbeddingDropout(\n",
      "      (emb): Embedding(54930, 400, padding_idx=1)\n",
      "    )\n",
      "    (rnns): ModuleList(\n",
      "      (0): WeightDropout(\n",
      "        (module): LSTM(400, 1150, batch_first=True)\n",
      "      )\n",
      "      (1): WeightDropout(\n",
      "        (module): LSTM(1150, 1150, batch_first=True)\n",
      "      )\n",
      "      (2): WeightDropout(\n",
      "        (module): LSTM(1150, 400, batch_first=True)\n",
      "      )\n",
      "    )\n",
      "    (input_dp): RNNDropout()\n",
      "    (hidden_dps): ModuleList(\n",
      "      (0): RNNDropout()\n",
      "      (1): RNNDropout()\n",
      "      (2): RNNDropout()\n",
      "    )\n",
      "  )\n",
      "  (1): PoolingLinearClassifier(\n",
      "    (layers): Sequential(\n",
      "      (0): BatchNorm1d(1200, eps=1e-05, momentum=0.1, affine=True, track_running_stats=True)\n",
      "      (1): Dropout(p=0.2)\n",
      "      (2): Linear(in_features=1200, out_features=50, bias=True)\n",
      "      (3): ReLU(inplace)\n",
      "      (4): BatchNorm1d(50, eps=1e-05, momentum=0.1, affine=True, track_running_stats=True)\n",
      "      (5): Dropout(p=0.1)\n",
      "      (6): Linear(in_features=50, out_features=15, bias=True)\n",
      "    )\n",
      "  )\n",
      ")\n"
     ]
    }
   ],
   "source": [
    "print(\"Define the model for the target task, i.e. Classification\")\n",
    "\n",
    "save_1 = partial(SaveModelCallback, \n",
    "                 monitor = 'accuracy_thresh', \n",
    "                 every = 'improvement', \n",
    "                 name = 'best_accuracy_classifier')\n",
    "\n",
    "save_2 = partial(SaveModelCallback, \n",
    "                 monitor = 'fbeta', \n",
    "                 every = 'improvement', \n",
    "                 name = 'best_fbeta_classifier')\n",
    "\n",
    "early_stop = partial(EarlyStoppingCallback, \n",
    "                     monitor ='val_loss', \n",
    "                     min_delta = 0.005, \n",
    "                     patience = 3)\n",
    "\n",
    "lr_schedule = partial(ReduceLROnPlateauCallback, \n",
    "                      monitor = 'val_loss', \n",
    "                      patience = 2, \n",
    "                      factor = 0.1, \n",
    "                      min_delta = 0.005)\n",
    "\n",
    "# bptt = 70, emb_sz = 400, nh = 1150, nl = 3, drop_mult = 1, wd = 0, \n",
    "classifier_learner = text_classifier_learner(data_classifier, drop_mult=0.5,\n",
    "                                     callback_fns = [save_1, save_2, early_stop, lr_schedule],\n",
    "                                     metrics = [accuracy_thresh, fbeta])\n",
    "print(\"Classifier defined. \\n Model's summary:\")\n",
    "print(\"=======================================\")\n",
    "print(classifier_learner.model) # summary"
   ]
  },
  {
   "cell_type": "code",
   "execution_count": 16,
   "metadata": {
    "colab": {},
    "colab_type": "code",
    "id": "oTz-T2Y74w01",
    "outputId": "1613cad7-dee6-4964-a36e-3b7f8b27919c"
   },
   "outputs": [
    {
     "name": "stdout",
     "output_type": "stream",
     "text": [
      "LR Finder is complete, type {learner_name}.recorder.plot() to see the graph.\n"
     ]
    }
   ],
   "source": [
    "classifier_learner.lr_find()"
   ]
  },
  {
   "cell_type": "code",
   "execution_count": 17,
   "metadata": {
    "colab": {},
    "colab_type": "code",
    "id": "y38q6wlhmMNC",
    "outputId": "80da238e-b928-47e0-c0ad-9842029c2037"
   },
   "outputs": [
    {
     "data": {
      "image/png": "[encoded data removed]",
      "text/plain": [
       "<Figure size 432x288 with 1 Axes>"
      ]
     },
     "metadata": {
      "needs_background": "light"
     },
     "output_type": "display_data"
    }
   ],
   "source": [
    "classifier_learner.recorder.plot(skip_end=5)"
   ]
  },
  {
   "cell_type": "markdown",
   "metadata": {
    "colab_type": "text",
    "id": "s4lwzYNtmMLz"
   },
   "source": [
    "### LM Head"
   ]
  },
  {
   "cell_type": "code",
   "execution_count": 19,
   "metadata": {
    "colab": {},
    "colab_type": "code",
    "id": "4vNtVWdyilvP",
    "outputId": "595763cb-3861-4218-b723-2995d9b60a69"
   },
   "outputs": [
    {
     "name": "stdout",
     "output_type": "stream",
     "text": [
      "Train only the last layer of the LM with a large LR:\n",
      "====================================================\n"
     ]
    },
    {
     "data": {
      "text/html": [
       "Total time: 11:29 <p><table style='width:300px; margin-bottom:10px'>\n",
       "  <tr>\n",
       "    <th>epoch</th>\n",
       "    <th>train_loss</th>\n",
       "    <th>valid_loss</th>\n",
       "    <th>accuracy</th>\n",
       "  </tr>\n",
       "  <tr>\n",
       "    <th>1</th>\n",
       "    <th>4.710644</th>\n",
       "    <th>4.402639</th>\n",
       "    <th>0.309722</th>\n",
       "  </tr>\n",
       "</table>\n"
      ],
      "text/plain": [
       "<IPython.core.display.HTML object>"
      ]
     },
     "metadata": {},
     "output_type": "display_data"
    }
   ],
   "source": [
    "# torch.cuda.empty_cache()\n",
    "print(\"Train only the last layer of the LM with a large LR:\")\n",
    "print(\"====================================================\")\n",
    "lm_learner.freeze_to(-1)\n",
    "lm_learner.fit_one_cycle(cyc_len = 1, \n",
    "                         max_lr = 5e-2, \n",
    "                         moms = (0.8, 0.7))\n",
    "# epoch\ttrain_loss\tvalid_loss\taccuracy\n",
    "# 1\t4.334761\t3.987179\t0.343920"
   ]
  },
  {
   "cell_type": "code",
   "execution_count": 20,
   "metadata": {
    "colab": {},
    "colab_type": "code",
    "id": "q3iz5Xk0_Pk_"
   },
   "outputs": [],
   "source": [
    "# only last layer trained so far\n",
    "lm_learner.save('lm_head')"
   ]
  },
  {
   "cell_type": "markdown",
   "metadata": {
    "colab_type": "text",
    "id": "hHBG6GV81wnq"
   },
   "source": [
    "### LM tune further"
   ]
  },
  {
   "cell_type": "code",
   "execution_count": 21,
   "metadata": {
    "colab": {},
    "colab_type": "code",
    "id": "dIYrvjOWMywN",
    "outputId": "474e68dd-5f6e-4d2d-a7ef-738569ab3fbb"
   },
   "outputs": [
    {
     "data": {
      "text/html": [
       "Total time: 23:28 <p><table style='width:300px; margin-bottom:10px'>\n",
       "  <tr>\n",
       "    <th>epoch</th>\n",
       "    <th>train_loss</th>\n",
       "    <th>valid_loss</th>\n",
       "    <th>accuracy</th>\n",
       "  </tr>\n",
       "  <tr>\n",
       "    <th>1</th>\n",
       "    <th>4.031379</th>\n",
       "    <th>4.079500</th>\n",
       "    <th>0.340390</th>\n",
       "  </tr>\n",
       "  <tr>\n",
       "    <th>2</th>\n",
       "    <th>4.009102</th>\n",
       "    <th>3.842782</th>\n",
       "    <th>0.364275</th>\n",
       "  </tr>\n",
       "</table>\n"
      ],
      "text/plain": [
       "<IPython.core.display.HTML object>"
      ]
     },
     "metadata": {},
     "output_type": "display_data"
    }
   ],
   "source": [
    "lm_learner.load('lm_head')\n",
    "lm_learner.freeze_to(-2)\n",
    "lm_learner.fit_one_cycle(2, max_lr = 1e-2, moms = (0.8, 0.7))\n",
    "# Total time: 3:36:26\n",
    "#epoch\ttrain_loss\tvalid_loss\taccuracy\n",
    "# 1 \t3.875191\t4.073611\t0.342777\n",
    "# 2 \t3.753567\t3.906425\t0.357417\n",
    "# 3 \t3.892894\t3.714304\t0.376911"
   ]
  },
  {
   "cell_type": "code",
   "execution_count": 22,
   "metadata": {
    "colab": {},
    "colab_type": "code",
    "id": "46PN7X0UM44m"
   },
   "outputs": [],
   "source": [
    "lm_learner.save('lm_2_last_layers_tuned')"
   ]
  },
  {
   "cell_type": "markdown",
   "metadata": {
    "colab_type": "text",
    "id": "1Nbf-DzImMMN"
   },
   "source": [
    "### LM: unfreeze entire model"
   ]
  },
  {
   "cell_type": "code",
   "execution_count": 23,
   "metadata": {
    "colab": {},
    "colab_type": "code",
    "id": "FyAt1hLf_cXw",
    "outputId": "316c7004-f6e8-494e-9cc2-298296fc7004"
   },
   "outputs": [
    {
     "name": "stdout",
     "output_type": "stream",
     "text": [
      "Unfreeze entire model. Train with Discriminative LRs. Set every layer group to trainable (i.e. requires_grad=True).\n",
      "=============================================================\n"
     ]
    },
    {
     "data": {
      "text/html": [
       "Total time: 39:08 <p><table style='width:300px; margin-bottom:10px'>\n",
       "  <tr>\n",
       "    <th>epoch</th>\n",
       "    <th>train_loss</th>\n",
       "    <th>valid_loss</th>\n",
       "    <th>accuracy</th>\n",
       "  </tr>\n",
       "  <tr>\n",
       "    <th>1</th>\n",
       "    <th>3.758345</th>\n",
       "    <th>3.826353</th>\n",
       "    <th>0.366662</th>\n",
       "  </tr>\n",
       "  <tr>\n",
       "    <th>2</th>\n",
       "    <th>3.769183</th>\n",
       "    <th>3.794012</th>\n",
       "    <th>0.369719</th>\n",
       "  </tr>\n",
       "  <tr>\n",
       "    <th>3</th>\n",
       "    <th>3.660429</th>\n",
       "    <th>3.786516</th>\n",
       "    <th>0.370959</th>\n",
       "  </tr>\n",
       "</table>\n"
      ],
      "text/plain": [
       "<IPython.core.display.HTML object>"
      ]
     },
     "metadata": {},
     "output_type": "display_data"
    }
   ],
   "source": [
    "print(\"Unfreeze entire model. Train with Discriminative LRs. \" + \n",
    "      \"Set every layer group to trainable (i.e. requires_grad=True).\")\n",
    "print(\"=============================================================\")\n",
    "lm_learner.load('lm_2_last_layers_tuned')\n",
    "lm_learner.unfreeze()\n",
    "lm_learner.fit_one_cycle(cyc_len = 3, \n",
    "                         max_lr = slice(1e-5, 1e-3), \n",
    "                         moms = (0.8, 0.7))\n",
    "# epoch\ttrain_loss\tvalid_loss\taccuracy\n",
    "#1\t3.563736\t3.798236\t0.369602"
   ]
  },
  {
   "cell_type": "code",
   "execution_count": 24,
   "metadata": {
    "colab": {},
    "colab_type": "code",
    "id": "5c4z7j0zBXEj"
   },
   "outputs": [],
   "source": [
    "lm_learner.save('lm_all_layers_finetuned')\n",
    "lm_learner.save_encoder('lm_encoder')"
   ]
  },
  {
   "cell_type": "code",
   "execution_count": 25,
   "metadata": {
    "colab": {},
    "colab_type": "code",
    "id": "uaI89atbmMMk",
    "outputId": "8a44f6b2-aa7d-401b-c090-3edb2acf19a7"
   },
   "outputs": [
    {
     "name": "stdout",
     "output_type": "stream",
     "text": [
      "Therefore, in this paper,  we develop our hypotheses about the relationship between perceived value and perceived enjoyment to the xxup it artifact . xxmaj drawing on the xxmaj theory of xxmaj planned xxmaj behavior , we conceptualize the relationship between two key drivers of xxup it experience by describing the relationship between customer and xxup it system value . xxmaj in our work , we propose that xxup it refers to the individual characteristics of the system , i.e. , its internal entities and their behavior . xxmaj we focus on the xxup it function in which the human activity influences xxup it identity . xxmaj we present our study with a set of hypotheses , including the xxup it artifact , the xxup it artifact , and its impact on the xxup it artifact . xxmaj we propose a model of xxup it value management and highlight how a xxup it xxmaj human xxmaj resource xxmaj environment xxmaj we were able to solve a problem when the xxup it identity is considered to be the core of the system . xxmaj given that a combination of the three xxup it objects i.e. , xxup it artifacts that are explicitly used in xxup it artifacts to capture xxup it artifacts is also important for the xxup it artifact , for this purpose , the technology itself is a combination of both the xxup it artifact and the xxup it artifact . xxmaj the cognitive perspective and the relative importance of the xxup it artifact should be a central type of research that seeks to understand the sociotechnical nature of the artifact . xxmaj in the following , the xxup it artifact is used to understand the xxup it artifact as the key to xxup it artifacts in the xxup it environment , and to\n"
     ]
    }
   ],
   "source": [
    "print(lm_learner.predict('Therefore, in this paper, ', 300, temperature = 0.75, min_p = 0.001))"
   ]
  },
  {
   "cell_type": "code",
   "execution_count": 26,
   "metadata": {
    "colab": {},
    "colab_type": "code",
    "id": "Wda3PptLDSbr",
    "outputId": "51e9eb0f-bc5c-46e1-fe36-76106c8b7c05"
   },
   "outputs": [
    {
     "name": "stdout",
     "output_type": "stream",
     "text": [
      "==========================================================================================\n",
      "Plotting loss, metrics, LR & Momentums for the Language Model trained on entire IS Corpus:\n"
     ]
    },
    {
     "data": {
      "image/png": "[encoded data removed]",
      "text/plain": [
       "<Figure size 432x288 with 1 Axes>"
      ]
     },
     "metadata": {
      "needs_background": "light"
     },
     "output_type": "display_data"
    },
    {
     "data": {
      "image/png": "[encoded data removed]",
      "text/plain": [
       "<Figure size 432x288 with 1 Axes>"
      ]
     },
     "metadata": {
      "needs_background": "light"
     },
     "output_type": "display_data"
    },
    {
     "data": {
      "image/png": "[encoded data removed]",
      "text/plain": [
       "<Figure size 864x288 with 2 Axes>"
      ]
     },
     "metadata": {
      "needs_background": "light"
     },
     "output_type": "display_data"
    }
   ],
   "source": [
    "print(\"==========================================================================================\")\n",
    "print(\"Plotting loss, metrics, LR & Momentums for the Language Model trained on entire IS Corpus:\")\n",
    "lm_learner.recorder.plot_losses()\n",
    "lm_learner.recorder.plot_metrics()\n",
    "lm_learner.recorder.plot_lr(show_moms=True)"
   ]
  },
  {
   "cell_type": "markdown",
   "metadata": {
    "colab_type": "text",
    "id": "jCeND3YD1woD"
   },
   "source": [
    "### Classifier head"
   ]
  },
  {
   "cell_type": "code",
   "execution_count": 27,
   "metadata": {
    "colab": {},
    "colab_type": "code",
    "id": "-iwhXmU8pMlz",
    "outputId": "89d745db-3174-4990-bf69-bf7236edb1a2"
   },
   "outputs": [
    {
     "data": {
      "text/html": [
       "Total time: 10:06 <p><table style='width:375px; margin-bottom:10px'>\n",
       "  <tr>\n",
       "    <th>epoch</th>\n",
       "    <th>train_loss</th>\n",
       "    <th>valid_loss</th>\n",
       "    <th>accuracy_thresh</th>\n",
       "    <th>fbeta</th>\n",
       "  </tr>\n",
       "  <tr>\n",
       "    <th>1</th>\n",
       "    <th>0.444347</th>\n",
       "    <th>0.270760</th>\n",
       "    <th>0.889290</th>\n",
       "    <th>0.557172</th>\n",
       "  </tr>\n",
       "  <tr>\n",
       "    <th>2</th>\n",
       "    <th>0.333425</th>\n",
       "    <th>0.252731</th>\n",
       "    <th>0.897714</th>\n",
       "    <th>0.598546</th>\n",
       "  </tr>\n",
       "  <tr>\n",
       "    <th>3</th>\n",
       "    <th>0.287532</th>\n",
       "    <th>0.253162</th>\n",
       "    <th>0.899398</th>\n",
       "    <th>0.603896</th>\n",
       "  </tr>\n",
       "</table>\n"
      ],
      "text/plain": [
       "<IPython.core.display.HTML object>"
      ]
     },
     "metadata": {},
     "output_type": "display_data"
    }
   ],
   "source": [
    "classifier_learner.load_encoder('lm_encoder')\n",
    "classifier_learner.freeze()\n",
    "classifier_learner.fit_one_cycle(3, 5e-2, moms=(0.8, 0.7))\n",
    "# epoch \ttrain_loss\tvalid_loss\taccuracy_thresh\tfbeta\n",
    "#     10\t0.246892\t0.255884\t0.893429\t0.634295"
   ]
  },
  {
   "cell_type": "code",
   "execution_count": 28,
   "metadata": {
    "colab": {},
    "colab_type": "code",
    "id": "yz2qeonepMmN"
   },
   "outputs": [],
   "source": [
    "classifier_learner.save('classifier_last_layer_tuned')"
   ]
  },
  {
   "cell_type": "code",
   "execution_count": 29,
   "metadata": {
    "colab": {},
    "colab_type": "code",
    "id": "8Q0fCxekpMmd",
    "outputId": "fa94b4a0-f414-486f-86f2-862f6060be55"
   },
   "outputs": [
    {
     "name": "stdout",
     "output_type": "stream",
     "text": [
      "===============================================================================================\n",
      "Plotting loss for Multlabel Classifier:\n"
     ]
    },
    {
     "data": {
      "image/png": "[encoded data removed]",
      "text/plain": [
       "<Figure size 432x288 with 1 Axes>"
      ]
     },
     "metadata": {
      "needs_background": "light"
     },
     "output_type": "display_data"
    },
    {
     "data": {
      "image/png": "[encoded data removed]",
      "text/plain": [
       "<Figure size 432x576 with 2 Axes>"
      ]
     },
     "metadata": {
      "needs_background": "light"
     },
     "output_type": "display_data"
    },
    {
     "data": {
      "image/png": "[encoded data removed]",
      "text/plain": [
       "<Figure size 864x288 with 2 Axes>"
      ]
     },
     "metadata": {
      "needs_background": "light"
     },
     "output_type": "display_data"
    }
   ],
   "source": [
    "print(\"===============================================================================================\")\n",
    "print(\"Plotting loss for Multlabel Classifier:\")\n",
    "classifier_learner.recorder.plot_losses()\n",
    "classifier_learner.recorder.plot_metrics()\n",
    "classifier_learner.recorder.plot_lr(show_moms=True)"
   ]
  },
  {
   "cell_type": "markdown",
   "metadata": {
    "colab_type": "text",
    "id": "2OBIqW54pMnM"
   },
   "source": [
    "## Further fine tuning"
   ]
  },
  {
   "cell_type": "code",
   "execution_count": 30,
   "metadata": {
    "colab": {},
    "colab_type": "code",
    "id": "fZTrCIx5pMnU",
    "outputId": "f96afd65-dd90-4381-b20c-e96272215662"
   },
   "outputs": [
    {
     "data": {
      "text/html": [
       "Total time: 03:50 <p><table style='width:375px; margin-bottom:10px'>\n",
       "  <tr>\n",
       "    <th>epoch</th>\n",
       "    <th>train_loss</th>\n",
       "    <th>valid_loss</th>\n",
       "    <th>accuracy_thresh</th>\n",
       "    <th>fbeta</th>\n",
       "  </tr>\n",
       "  <tr>\n",
       "    <th>1</th>\n",
       "    <th>0.247804</th>\n",
       "    <th>0.250058</th>\n",
       "    <th>0.902527</th>\n",
       "    <th>0.616844</th>\n",
       "  </tr>\n",
       "</table>\n"
      ],
      "text/plain": [
       "<IPython.core.display.HTML object>"
      ]
     },
     "metadata": {},
     "output_type": "display_data"
    }
   ],
   "source": [
    "classifier_learner.load(\"classifier_last_layer_tuned\")\n",
    "classifier_learner.freeze_to(-2)\n",
    "classifier_learner.fit_one_cycle(1, slice(1e-2/(2.6**4), 1e-2), moms=(0.8, 0.7))\n",
    "# epoch\ttrain_loss\tvalid_loss\taccuracy_thresh\tfbeta\n",
    "# 8\t0.265795\t0.265270\t0.887714\t0.658705"
   ]
  },
  {
   "cell_type": "code",
   "execution_count": 31,
   "metadata": {
    "colab": {},
    "colab_type": "code",
    "id": "FaoiAlcypMnh"
   },
   "outputs": [],
   "source": [
    "classifier_learner.save('classifier_two_last_layers_tuned')"
   ]
  },
  {
   "cell_type": "code",
   "execution_count": 32,
   "metadata": {
    "colab": {},
    "colab_type": "code",
    "id": "B4SUjUs3pMn6",
    "outputId": "031cff5c-bf2a-4092-f98e-0544fe362f2e"
   },
   "outputs": [
    {
     "data": {
      "text/html": [
       "Total time: 11:49 <p><table style='width:375px; margin-bottom:10px'>\n",
       "  <tr>\n",
       "    <th>epoch</th>\n",
       "    <th>train_loss</th>\n",
       "    <th>valid_loss</th>\n",
       "    <th>accuracy_thresh</th>\n",
       "    <th>fbeta</th>\n",
       "  </tr>\n",
       "  <tr>\n",
       "    <th>1</th>\n",
       "    <th>0.235196</th>\n",
       "    <th>0.249074</th>\n",
       "    <th>0.905415</th>\n",
       "    <th>0.610519</th>\n",
       "  </tr>\n",
       "  <tr>\n",
       "    <th>2</th>\n",
       "    <th>0.234234</th>\n",
       "    <th>0.246185</th>\n",
       "    <th>0.906619</th>\n",
       "    <th>0.611909</th>\n",
       "  </tr>\n",
       "  <tr>\n",
       "    <th>3</th>\n",
       "    <th>0.232787</th>\n",
       "    <th>0.247907</th>\n",
       "    <th>0.903490</th>\n",
       "    <th>0.611584</th>\n",
       "  </tr>\n",
       "</table>\n"
      ],
      "text/plain": [
       "<IPython.core.display.HTML object>"
      ]
     },
     "metadata": {},
     "output_type": "display_data"
    }
   ],
   "source": [
    "classifier_learner.load('classifier_two_last_layers_tuned')\n",
    "classifier_learner.unfreeze()\n",
    "classifier_learner.fit_one_cycle(3, slice(1e-3/(2.6**4), 1e-3), moms=(0.8, 0.7))"
   ]
  },
  {
   "cell_type": "code",
   "execution_count": 33,
   "metadata": {
    "colab": {},
    "colab_type": "code",
    "id": "HXUw1XrA4w17"
   },
   "outputs": [],
   "source": [
    "classifier_learner.save('classifier_all_layers_finetuned')"
   ]
  },
  {
   "cell_type": "code",
   "execution_count": 34,
   "metadata": {
    "colab": {},
    "colab_type": "code",
    "id": "eWK7D-eZpMoD",
    "outputId": "48e80624-6e5e-43bd-d651-cea55bc32ce3"
   },
   "outputs": [
    {
     "name": "stdout",
     "output_type": "stream",
     "text": [
      "===============================================================================================\n",
      "Plotting loss, metrics, LR & Momentums for Multlabel Classifier trained on full text of papers:\n"
     ]
    },
    {
     "data": {
      "image/png": "[encoded data removed]",
      "text/plain": [
       "<Figure size 432x288 with 1 Axes>"
      ]
     },
     "metadata": {
      "needs_background": "light"
     },
     "output_type": "display_data"
    },
    {
     "data": {
      "image/png": "[encoded data removed]",
      "text/plain": [
       "<Figure size 432x576 with 2 Axes>"
      ]
     },
     "metadata": {
      "needs_background": "light"
     },
     "output_type": "display_data"
    },
    {
     "data": {
      "image/png": "[encoded data removed]",
      "text/plain": [
       "<Figure size 864x288 with 2 Axes>"
      ]
     },
     "metadata": {
      "needs_background": "light"
     },
     "output_type": "display_data"
    }
   ],
   "source": [
    "print(\"===============================================================================================\")\n",
    "print(\"Plotting loss, metrics, LR & Momentums for Multlabel Classifier trained on full text of papers:\")\n",
    "classifier_learner.recorder.plot_losses()\n",
    "classifier_learner.recorder.plot_metrics()\n",
    "classifier_learner.recorder.plot_lr(show_moms=True)"
   ]
  },
  {
   "cell_type": "code",
   "execution_count": 35,
   "metadata": {
    "colab": {},
    "colab_type": "code",
    "id": "otQ-Qphv4w2E",
    "outputId": "102a6ac1-9b00-4292-c8aa-fbdc86135227"
   },
   "outputs": [
    {
     "name": "stdout",
     "output_type": "stream",
     "text": [
      "Predictions generated.\n",
      "====================\n",
      "Evaluation metrics on the train, valid and test set:\n"
     ]
    },
    {
     "data": {
      "text/html": [
       "<div>\n",
       "<style scoped>\n",
       "    .dataframe tbody tr th:only-of-type {\n",
       "        vertical-align: middle;\n",
       "    }\n",
       "\n",
       "    .dataframe tbody tr th {\n",
       "        vertical-align: top;\n",
       "    }\n",
       "\n",
       "    .dataframe thead th {\n",
       "        text-align: right;\n",
       "    }\n",
       "</style>\n",
       "<table border=\"1\" class=\"dataframe\">\n",
       "  <thead>\n",
       "    <tr style=\"text-align: right;\">\n",
       "      <th></th>\n",
       "      <th>train</th>\n",
       "      <th>valid</th>\n",
       "      <th>test</th>\n",
       "    </tr>\n",
       "  </thead>\n",
       "  <tbody>\n",
       "    <tr>\n",
       "      <th>precision</th>\n",
       "      <td>0.708688</td>\n",
       "      <td>0.680672</td>\n",
       "      <td>0.151316</td>\n",
       "    </tr>\n",
       "    <tr>\n",
       "      <th>recall</th>\n",
       "      <td>0.485131</td>\n",
       "      <td>0.470019</td>\n",
       "      <td>0.167883</td>\n",
       "    </tr>\n",
       "    <tr>\n",
       "      <th>f1_measure</th>\n",
       "      <td>0.575978</td>\n",
       "      <td>0.556064</td>\n",
       "      <td>0.159170</td>\n",
       "    </tr>\n",
       "    <tr>\n",
       "      <th>fbeta_score</th>\n",
       "      <td>0.517799</td>\n",
       "      <td>0.501031</td>\n",
       "      <td>0.164286</td>\n",
       "    </tr>\n",
       "    <tr>\n",
       "      <th>hamming_loss</th>\n",
       "      <td>0.085069</td>\n",
       "      <td>0.093381</td>\n",
       "      <td>0.118248</td>\n",
       "    </tr>\n",
       "    <tr>\n",
       "      <th>exact_match</th>\n",
       "      <td>0.260417</td>\n",
       "      <td>0.259928</td>\n",
       "      <td>0.043796</td>\n",
       "    </tr>\n",
       "  </tbody>\n",
       "</table>\n",
       "</div>"
      ],
      "text/plain": [
       "                 train     valid      test\n",
       "precision     0.708688  0.680672  0.151316\n",
       "recall        0.485131  0.470019  0.167883\n",
       "f1_measure    0.575978  0.556064  0.159170\n",
       "fbeta_score   0.517799  0.501031  0.164286\n",
       "hamming_loss  0.085069  0.093381  0.118248\n",
       "exact_match   0.260417  0.259928  0.043796"
      ]
     },
     "execution_count": 35,
     "metadata": {},
     "output_type": "execute_result"
    }
   ],
   "source": [
    "classifier_learner.load(\"classifier_all_layers_finetuned\")\n",
    "\n",
    "y_pred, y_true = classifier_learner.get_preds(ds_type = DatasetType.Train, with_loss=False)\n",
    "\n",
    "threshold = 0.5\n",
    "y_pred[y_pred >= threshold] = 1\n",
    "y_pred[y_pred < threshold] = 0\n",
    "\n",
    "classifier_metrics = {}\n",
    "classifier_metrics.update({'precision':skm.precision_score(y_true,\n",
    "                                                           y_pred,\n",
    "                                                           average='micro')})\n",
    "\n",
    "classifier_metrics.update({'recall':skm.recall_score(y_true,\n",
    "                                                     y_pred,\n",
    "                                                     average='micro')})\n",
    "\n",
    "classifier_metrics.update({'f1_measure':skm.f1_score(y_true,\n",
    "                                                          y_pred,\n",
    "                                                          average='micro')})\n",
    "\n",
    "classifier_metrics.update({'fbeta_score':skm.fbeta_score(y_true,\n",
    "                                                        y_pred,\n",
    "                                                         beta=2,\n",
    "                                                          average='micro')})\n",
    "\n",
    "classifier_metrics.update({'hamming_loss':skm.hamming_loss(y_true,\n",
    "                                                           y_pred)})\n",
    "\n",
    "classifier_metrics.update({'exact_match':skm.accuracy_score(y_true,\n",
    "                                                            y_pred)})\n",
    "\n",
    "classifier_metrics_train_df = pd.DataFrame.from_dict(data = classifier_metrics,\n",
    "                                                 orient='index',\n",
    "                                                 columns=['train'])\n",
    "\n",
    "#________________________________________________________________________________\n",
    "\n",
    "y_pred, y_true = classifier_learner.get_preds(ds_type = DatasetType.Valid, with_loss=False)\n",
    "\n",
    "y_pred[y_pred >= threshold] = 1\n",
    "y_pred[y_pred < threshold] = 0\n",
    "\n",
    "classifier_metrics = {}\n",
    "classifier_metrics.update({'precision':skm.precision_score(y_true,\n",
    "                                                           y_pred,\n",
    "                                                           average='micro')})\n",
    "\n",
    "classifier_metrics.update({'recall':skm.recall_score(y_true,\n",
    "                                                     y_pred,\n",
    "                                                     average='micro')})\n",
    "\n",
    "classifier_metrics.update({'f1_measure':skm.f1_score(y_true,\n",
    "                                                          y_pred,\n",
    "                                                          average='micro')})\n",
    "\n",
    "classifier_metrics.update({'fbeta_score':skm.fbeta_score(y_true,\n",
    "                                                        y_pred,\n",
    "                                                         beta=2,\n",
    "                                                          average='micro')})\n",
    "\n",
    "classifier_metrics.update({'hamming_loss':skm.hamming_loss(y_true,\n",
    "                                                           y_pred)})\n",
    "\n",
    "classifier_metrics.update({'exact_match':skm.accuracy_score(y_true,\n",
    "                                                            y_pred)})\n",
    "\n",
    "classifier_metrics_valid_df = pd.DataFrame.from_dict(data = classifier_metrics,\n",
    "                                                 orient='index',\n",
    "                                                 columns=['valid'])\n",
    "#____________________________________________________________________________________\n",
    "\n",
    "y_pred, y_true = classifier_learner.get_preds(ds_type = DatasetType.Test, with_loss=False)\n",
    "\n",
    "print(\"Predictions generated.\")\n",
    "print(\"====================\")\n",
    "print(\"Evaluation metrics on the train, valid and test set:\")\n",
    "\n",
    "y_pred[y_pred >= threshold] = 1\n",
    "y_pred[y_pred < threshold] = 0\n",
    "\n",
    "classifier_metrics = {}\n",
    "classifier_metrics.update({'precision':skm.precision_score(y_true,\n",
    "                                                           y_pred,\n",
    "                                                           average='micro')})\n",
    "\n",
    "classifier_metrics.update({'recall':skm.recall_score(y_true,\n",
    "                                                     y_pred,\n",
    "                                                     average='micro')})\n",
    "\n",
    "classifier_metrics.update({'f1_measure':skm.f1_score(y_true,\n",
    "                                                          y_pred,\n",
    "                                                          average='micro')})\n",
    "\n",
    "classifier_metrics.update({'fbeta_score':skm.fbeta_score(y_true,\n",
    "                                                        y_pred,\n",
    "                                                         beta=2,\n",
    "                                                          average='micro')})\n",
    "\n",
    "classifier_metrics.update({'hamming_loss':skm.hamming_loss(y_true,\n",
    "                                                           y_pred)})\n",
    "\n",
    "classifier_metrics.update({'exact_match':skm.accuracy_score(y_true,\n",
    "                                                            y_pred)})\n",
    "\n",
    "classifier_metrics_test_df = pd.DataFrame.from_dict(data = classifier_metrics,\n",
    "                                                 orient='index',\n",
    "                                                 columns=['test'])\n",
    "#____________________________________________________________________________________\n",
    "\n",
    "results = pd.concat(objs = [classifier_metrics_train_df,\n",
    "                            classifier_metrics_valid_df,\n",
    "                            classifier_metrics_test_df], axis = 1)\n",
    "results.to_csv(\"../out/Exp_04_02_corpus_small_60k/exp_04_metrics_all_layers_finetuned.csv\",\n",
    "                               index=False,\n",
    "                               header=True)\n",
    "results"
   ]
  },
  {
   "cell_type": "code",
   "execution_count": 36,
   "metadata": {
    "colab": {},
    "colab_type": "code",
    "id": "Rw9C80J0P-5Y",
    "outputId": "3ed98cce-9335-4317-d65f-3c0192c08cc2"
   },
   "outputs": [
    {
     "data": {
      "text/html": [
       "Total time: 11:51 <p><table style='width:375px; margin-bottom:10px'>\n",
       "  <tr>\n",
       "    <th>epoch</th>\n",
       "    <th>train_loss</th>\n",
       "    <th>valid_loss</th>\n",
       "    <th>accuracy_thresh</th>\n",
       "    <th>fbeta</th>\n",
       "  </tr>\n",
       "  <tr>\n",
       "    <th>1</th>\n",
       "    <th>0.236122</th>\n",
       "    <th>0.247346</th>\n",
       "    <th>0.899158</th>\n",
       "    <th>0.615130</th>\n",
       "  </tr>\n",
       "  <tr>\n",
       "    <th>2</th>\n",
       "    <th>0.233480</th>\n",
       "    <th>0.246305</th>\n",
       "    <th>0.901324</th>\n",
       "    <th>0.626127</th>\n",
       "  </tr>\n",
       "  <tr>\n",
       "    <th>3</th>\n",
       "    <th>0.224865</th>\n",
       "    <th>0.247435</th>\n",
       "    <th>0.901083</th>\n",
       "    <th>0.626851</th>\n",
       "  </tr>\n",
       "</table>\n"
      ],
      "text/plain": [
       "<IPython.core.display.HTML object>"
      ]
     },
     "metadata": {},
     "output_type": "display_data"
    }
   ],
   "source": [
    "classifier_learner.load('classifier_all_layers_finetuned')\n",
    "classifier_learner.unfreeze()\n",
    "classifier_learner.fit_one_cycle(3, slice(5e-3/(2.6**4), 5e-3), moms=(0.8, 0.7)) # get_preds(DatasetType.Fix, ordered=True)\n",
    "# sigmoid=False\n",
    "# 3\t0.203966\t0.231896\t0.908063\t0.673956"
   ]
  },
  {
   "cell_type": "code",
   "execution_count": 37,
   "metadata": {
    "colab": {},
    "colab_type": "code",
    "id": "w--qrX36P-5d"
   },
   "outputs": [],
   "source": [
    "classifier_learner.save('classifier_all_layers_finetuned_longer')"
   ]
  },
  {
   "cell_type": "code",
   "execution_count": 38,
   "metadata": {
    "colab": {},
    "colab_type": "code",
    "id": "TIAMedJ8P-5f",
    "outputId": "19f9803b-fd12-4eff-b9d1-a1a5caba5e71"
   },
   "outputs": [
    {
     "name": "stdout",
     "output_type": "stream",
     "text": [
      "Predictions generated.\n",
      "====================\n",
      "Evaluation metrics on the train, valid and test set:\n"
     ]
    },
    {
     "data": {
      "text/html": [
       "<div>\n",
       "<style scoped>\n",
       "    .dataframe tbody tr th:only-of-type {\n",
       "        vertical-align: middle;\n",
       "    }\n",
       "\n",
       "    .dataframe tbody tr th {\n",
       "        vertical-align: top;\n",
       "    }\n",
       "\n",
       "    .dataframe thead th {\n",
       "        text-align: right;\n",
       "    }\n",
       "</style>\n",
       "<table border=\"1\" class=\"dataframe\">\n",
       "  <thead>\n",
       "    <tr style=\"text-align: right;\">\n",
       "      <th></th>\n",
       "      <th>train</th>\n",
       "      <th>valid</th>\n",
       "      <th>test</th>\n",
       "    </tr>\n",
       "  </thead>\n",
       "  <tbody>\n",
       "    <tr>\n",
       "      <th>precision</th>\n",
       "      <td>0.708397</td>\n",
       "      <td>0.635897</td>\n",
       "      <td>0.140244</td>\n",
       "    </tr>\n",
       "    <tr>\n",
       "      <th>recall</th>\n",
       "      <td>0.540793</td>\n",
       "      <td>0.479691</td>\n",
       "      <td>0.167883</td>\n",
       "    </tr>\n",
       "    <tr>\n",
       "      <th>f1_measure</th>\n",
       "      <td>0.613351</td>\n",
       "      <td>0.546858</td>\n",
       "      <td>0.152824</td>\n",
       "    </tr>\n",
       "    <tr>\n",
       "      <th>fbeta_score</th>\n",
       "      <td>0.567654</td>\n",
       "      <td>0.504475</td>\n",
       "      <td>0.161517</td>\n",
       "    </tr>\n",
       "    <tr>\n",
       "      <th>hamming_loss</th>\n",
       "      <td>0.081250</td>\n",
       "      <td>0.098917</td>\n",
       "      <td>0.124088</td>\n",
       "    </tr>\n",
       "    <tr>\n",
       "      <th>exact_match</th>\n",
       "      <td>0.296875</td>\n",
       "      <td>0.263538</td>\n",
       "      <td>0.043796</td>\n",
       "    </tr>\n",
       "  </tbody>\n",
       "</table>\n",
       "</div>"
      ],
      "text/plain": [
       "                 train     valid      test\n",
       "precision     0.708397  0.635897  0.140244\n",
       "recall        0.540793  0.479691  0.167883\n",
       "f1_measure    0.613351  0.546858  0.152824\n",
       "fbeta_score   0.567654  0.504475  0.161517\n",
       "hamming_loss  0.081250  0.098917  0.124088\n",
       "exact_match   0.296875  0.263538  0.043796"
      ]
     },
     "execution_count": 38,
     "metadata": {},
     "output_type": "execute_result"
    }
   ],
   "source": [
    "classifier_learner.load(\"classifier_all_layers_finetuned_longer\")\n",
    "\n",
    "y_pred, y_true = classifier_learner.get_preds(ds_type = DatasetType.Train, with_loss=False)\n",
    "\n",
    "threshold = 0.5\n",
    "y_pred[y_pred >= threshold] = 1\n",
    "y_pred[y_pred < threshold] = 0\n",
    "\n",
    "classifier_metrics = {}\n",
    "classifier_metrics.update({'precision':skm.precision_score(y_true,\n",
    "                                                           y_pred,\n",
    "                                                           average='micro')})\n",
    "\n",
    "classifier_metrics.update({'recall':skm.recall_score(y_true,\n",
    "                                                     y_pred,\n",
    "                                                     average='micro')})\n",
    "\n",
    "classifier_metrics.update({'f1_measure':skm.f1_score(y_true,\n",
    "                                                          y_pred,\n",
    "                                                          average='micro')})\n",
    "\n",
    "classifier_metrics.update({'fbeta_score':skm.fbeta_score(y_true,\n",
    "                                                        y_pred,\n",
    "                                                         beta=2,\n",
    "                                                          average='micro')})\n",
    "\n",
    "classifier_metrics.update({'hamming_loss':skm.hamming_loss(y_true,\n",
    "                                                           y_pred)})\n",
    "\n",
    "classifier_metrics.update({'exact_match':skm.accuracy_score(y_true,\n",
    "                                                            y_pred)})\n",
    "\n",
    "classifier_metrics_train_df = pd.DataFrame.from_dict(data = classifier_metrics,\n",
    "                                                 orient='index',\n",
    "                                                 columns=['train'])\n",
    "\n",
    "#________________________________________________________________________________\n",
    "\n",
    "y_pred, y_true = classifier_learner.get_preds(ds_type = DatasetType.Valid, with_loss=False)\n",
    "\n",
    "y_pred[y_pred >= threshold] = 1\n",
    "y_pred[y_pred < threshold] = 0\n",
    "\n",
    "classifier_metrics = {}\n",
    "classifier_metrics.update({'precision':skm.precision_score(y_true,\n",
    "                                                           y_pred,\n",
    "                                                           average='micro')})\n",
    "\n",
    "classifier_metrics.update({'recall':skm.recall_score(y_true,\n",
    "                                                     y_pred,\n",
    "                                                     average='micro')})\n",
    "\n",
    "classifier_metrics.update({'f1_measure':skm.f1_score(y_true,\n",
    "                                                          y_pred,\n",
    "                                                          average='micro')})\n",
    "\n",
    "classifier_metrics.update({'fbeta_score':skm.fbeta_score(y_true,\n",
    "                                                        y_pred,\n",
    "                                                         beta=2,\n",
    "                                                          average='micro')})\n",
    "\n",
    "classifier_metrics.update({'hamming_loss':skm.hamming_loss(y_true,\n",
    "                                                           y_pred)})\n",
    "\n",
    "classifier_metrics.update({'exact_match':skm.accuracy_score(y_true,\n",
    "                                                            y_pred)})\n",
    "\n",
    "classifier_metrics_valid_df = pd.DataFrame.from_dict(data = classifier_metrics,\n",
    "                                                 orient='index',\n",
    "                                                 columns=['valid'])\n",
    "#____________________________________________________________________________________\n",
    "\n",
    "y_pred, y_true = classifier_learner.get_preds(ds_type = DatasetType.Test, with_loss=False)\n",
    "\n",
    "print(\"Predictions generated.\")\n",
    "print(\"====================\")\n",
    "print(\"Evaluation metrics on the train, valid and test set:\")\n",
    "\n",
    "y_pred[y_pred >= threshold] = 1\n",
    "y_pred[y_pred < threshold] = 0\n",
    "\n",
    "classifier_metrics = {}\n",
    "classifier_metrics.update({'precision':skm.precision_score(y_true,\n",
    "                                                           y_pred,\n",
    "                                                           average='micro')})\n",
    "\n",
    "classifier_metrics.update({'recall':skm.recall_score(y_true,\n",
    "                                                     y_pred,\n",
    "                                                     average='micro')})\n",
    "\n",
    "classifier_metrics.update({'f1_measure':skm.f1_score(y_true,\n",
    "                                                          y_pred,\n",
    "                                                          average='micro')})\n",
    "\n",
    "classifier_metrics.update({'fbeta_score':skm.fbeta_score(y_true,\n",
    "                                                        y_pred,\n",
    "                                                         beta=2,\n",
    "                                                          average='micro')})\n",
    "\n",
    "classifier_metrics.update({'hamming_loss':skm.hamming_loss(y_true,\n",
    "                                                           y_pred)})\n",
    "\n",
    "classifier_metrics.update({'exact_match':skm.accuracy_score(y_true,\n",
    "                                                            y_pred)})\n",
    "\n",
    "classifier_metrics_test_df = pd.DataFrame.from_dict(data = classifier_metrics,\n",
    "                                                 orient='index',\n",
    "                                                 columns=['test'])\n",
    "#____________________________________________________________________________________\n",
    "\n",
    "results = pd.concat(objs = [classifier_metrics_train_df,\n",
    "                            classifier_metrics_valid_df,\n",
    "                            classifier_metrics_test_df], axis = 1)\n",
    "results.to_csv(\"../out/Exp_04_02_corpus_small_60k/exp_04_metrics_all_layers_tuned_longer.csv\",\n",
    "                               index=False,\n",
    "                               header=True)\n",
    "results"
   ]
  }
 ],
 "metadata": {
  "colab": {
   "collapsed_sections": [],
   "name": "Exp_04_02_corpus_small_60k.ipynb",
   "provenance": [],
   "version": "0.3.2"
  },
  "kernelspec": {
   "display_name": "Python 3",
   "language": "python",
   "name": "python3"
  },
  "language_info": {
   "codemirror_mode": {
    "name": "ipython",
    "version": 3
   },
   "file_extension": ".py",
   "mimetype": "text/x-python",
   "name": "python",
   "nbconvert_exporter": "python",
   "pygments_lexer": "ipython3",
   "version": "3.6.6"
  }
 },
 "nbformat": 4,
 "nbformat_minor": 2
}
